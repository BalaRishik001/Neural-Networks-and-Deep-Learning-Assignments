{
 "cells": [
  {
   "cell_type": "code",
   "execution_count": 1,
   "id": "c30fda14",
   "metadata": {},
   "outputs": [
    {
     "name": "stdout",
     "output_type": "stream",
     "text": [
      "avg: 45000.0\n",
      "Name :  BALARISHIK Family:  MARNENI Salary:  4000 department: DEVELOPMENT\n",
      "Total Employee 4\n"
     ]
    },
    {
     "data": {
      "text/plain": [
       "('GUCCI', None, None)"
      ]
     },
     "execution_count": 1,
     "metadata": {},
     "output_type": "execute_result"
    }
   ],
   "source": [
    "#. Create a class Employee and then do the following\n",
    "#Create a data member to count the number of Employees\n",
    "#Create a constructor to initialize name, family, salary, department\n",
    "#Create a function to average salary\n",
    "# Create a Fulltime Employee class and it should inherit the properties of Employee class\n",
    "# Create the instances of Fulltime Employee class and Employee class and call their member functions.\n",
    "\n",
    "class Employee:#Employee class\n",
    "    empCount=0 ##employeeConut is used to keep track of numner of employee objects\n",
    "    salSum=0 #salSum is used to take the average of the salaries of the Employee object\n",
    "    def __init__(self,name,family,salary,department): #constructor for Employee as per the requirements\n",
    "        self.name = name\n",
    "        self.family = family\n",
    "        self.salary = salary\n",
    "        self.department = department\n",
    "        Employee.empCount += 1\n",
    "        Employee.salSum+=self.salary\n",
    "    def avg(self):\n",
    "        return Employee.salSum/Employee.empCount\n",
    "    def displayCount(self): #One of the functions in Employee class\n",
    "        print (\"Total Employee %d\" % Employee.empCount)\n",
    "    def displayEmployee(self):#one more function for employee class\n",
    "        print(\"Name : \", self.name, \"Family: \", self.family , \"Salary: \", self.salary, \"department:\",self.department)\n",
    "\n",
    "emp1 = Employee(\"MANIDEEP\",\"BHEEMANATHI\",30000,\"DELL\")#Employee objects creation with intialization\n",
    "emp2 = Employee(\"MANASA\",\"MANNEPALLI\",60000,\"HP\")\n",
    "emp3 = Employee(\"RAM\",\"BANURI\",45000,\"TRUNOTE\")\n",
    "print(\"avg:\",emp2.avg())#calling average function\n",
    "class FulltimeEmployee(Employee):#FulltimeEmployee class with Employee as its parent class\n",
    "    def __init__(self,name,family,salary,department,c_name):#constructor for FulltimeEmployee\n",
    "        super().__init__(name,family,salary,department)\n",
    "        self.c_name=c_name\n",
    "    def setCompany(self,c_name):#one of the FulltimeEmployee class function\n",
    "        self.c_name=c_name\n",
    "    def getCompany(self):\n",
    "        if self.c_name not in self.c_name:\n",
    "            return \"\"\n",
    "        return self.c_name\n",
    "rishik=FulltimeEmployee(\"BALARISHIK\",\"MARNENI\",4000,\"DEVELOPMENT\",\"FACEBOOK\")#FultimeEmployee object\n",
    "rishik.setCompany(\"GUCCI\")#calling the member functions of FulltimeEmploye and Employee\n",
    "rishik.getCompany(),rishik.displayEmployee(),emp1.displayCount()\n"
   ]
  },
  {
   "cell_type": "code",
   "execution_count": 2,
   "id": "fbcbdaa8",
   "metadata": {},
   "outputs": [
    {
     "name": "stdout",
     "output_type": "stream",
     "text": [
      "[ 1.  2.  3.  4.  5.  6.  7.  8.  9. 10. 11. 12. 13. 14. 15. 16. 17. 18.\n",
      " 19. 20.]\n",
      "[[ 1.  2.  3.  4.  5.]\n",
      " [ 6.  7.  8.  9. 10.]\n",
      " [11. 12. 13. 14. 15.]\n",
      " [16. 17. 18. 19. 20.]]\n"
     ]
    },
    {
     "data": {
      "text/plain": [
       "array([[ 1.,  2.,  3.,  4.,  0.],\n",
       "       [ 6.,  7.,  8.,  9.,  0.],\n",
       "       [11., 12., 13., 14.,  0.],\n",
       "       [16., 17., 18., 19.,  0.]])"
      ]
     },
     "execution_count": 2,
     "metadata": {},
     "output_type": "execute_result"
    }
   ],
   "source": [
    "import numpy as np #importing numpy library\n",
    "vector=np.arange(1,21,dtype=float) #creating a numpy vector with arange function\n",
    "print(vector)\n",
    "vector=vector.reshape(4,5)#reshaping the vector with reshape() function\n",
    "print(vector)\n",
    "vector=np.where(np.isin(vector,vector.max(axis=1)),0,vector)#finding the max values in row and replacing them with zero using np.where() and np.max() function\n",
    "vector"
   ]
  },
  {
   "cell_type": "code",
   "execution_count": null,
   "id": "af8350f4",
   "metadata": {},
   "outputs": [],
   "source": []
  }
 ],
 "metadata": {
  "kernelspec": {
   "display_name": "Python 3 (ipykernel)",
   "language": "python",
   "name": "python3"
  },
  "language_info": {
   "codemirror_mode": {
    "name": "ipython",
    "version": 3
   },
   "file_extension": ".py",
   "mimetype": "text/x-python",
   "name": "python",
   "nbconvert_exporter": "python",
   "pygments_lexer": "ipython3",
   "version": "3.9.13"
  }
 },
 "nbformat": 4,
 "nbformat_minor": 5
}
