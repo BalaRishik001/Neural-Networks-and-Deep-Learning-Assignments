{
 "cells": [
  {
   "cell_type": "code",
   "execution_count": 5,
   "id": "3ba4cc80",
   "metadata": {},
   "outputs": [
    {
     "name": "stdout",
     "output_type": "stream",
     "text": [
      "Enter the string :python\n",
      "<class 'list'>\n",
      "['p', 'y', 't', 'h', 'o', 'n']\n",
      "['p', 'y', 'o', 'n']\n",
      "noyp\n"
     ]
    }
   ],
   "source": [
    "# Write a python program for the following:\n",
    "#Input the string “Python” as a list of characters from console, delete at least 2 characters, reversethe resultant string and print it.\n",
    "x = input(\"Enter the string :\")\n",
    "y =list(x.strip())\n",
    "print(type(y))\n",
    "print(y)\n",
    "y.pop(-3)\n",
    "y.pop(-3)\n",
    "print(y)\n",
    "y.reverse()\n",
    "x = ''.join(y)\n",
    "print(x)"
   ]
  },
  {
   "cell_type": "code",
   "execution_count": 2,
   "id": "a531a892",
   "metadata": {},
   "outputs": [
    {
     "name": "stdout",
     "output_type": "stream",
     "text": [
      "Enter the first number: 6\n",
      "Enter the second number: 2\n",
      "Division:  3.0\n",
      "Floor Division:  3\n",
      "Modulus:  0\n",
      "Exponentiation:  36\n"
     ]
    }
   ],
   "source": [
    "#Take two numbers from user and perform at least 4 arithmetic operations on them.\n",
    "\n",
    "a = int(input(\"Enter the first number: \")) # user input1 and typecasting the the entered string into integer\n",
    "b = int(input(\"Enter the second number: \")) # user input2\n",
    "\n",
    "#Printing the result for 4 arithmetic operations\n",
    "print(\"Division: \",a/b) # simple Division\n",
    "print(\"Floor Division: \",a// b) # floor Division\n",
    "print(\"Modulus: \", a % b) # Modulus\n",
    "print(\"Exponentiation: \",a ** b) # Exponentiation"
   ]
  },
  {
   "cell_type": "code",
   "execution_count": 3,
   "id": "328a7288",
   "metadata": {},
   "outputs": [
    {
     "name": "stdout",
     "output_type": "stream",
     "text": [
      "Enter the sentence :I love playing with python \n",
      "Updated string is : \n",
      "I love playing with pythons \n"
     ]
    }
   ],
   "source": [
    "#Write a program that accepts a sentence and replace each occurrence of ‘python’ with ‘pythons’.\n",
    "# declaring a string variable\n",
    "s = input(\"Enter the sentence :\")\n",
    "\n",
    "# replacing string python with pythons\n",
    "s = s.replace('python', 'pythons')\n",
    "print(\"Updated string is : \")\n",
    "print(s)"
   ]
  },
  {
   "cell_type": "code",
   "execution_count": 4,
   "id": "dd8aa291",
   "metadata": {},
   "outputs": [
    {
     "name": "stdout",
     "output_type": "stream",
     "text": [
      "Enter the score of the person: 91\n",
      "A grade\n"
     ]
    }
   ],
   "source": [
    "#Use the if statement conditions to write a program to print the letter grade based on an input class score. Use the grading scheme we are using in this class.\n",
    "\n",
    "score = int(input(\"Enter the score of the person: \"))\n",
    "if score >= 90:\n",
    "    print(\"A grade\")\n",
    "elif score >=80:\n",
    "    print(\"B grade\")\n",
    "elif score >=70:\n",
    "    print(\"C grade\")\n",
    "elif score >= 60:\n",
    "    print(\"D grade\")\n",
    "else:\n",
    "    print(\"Fail grade\")"
   ]
  },
  {
   "cell_type": "code",
   "execution_count": null,
   "id": "931a553d",
   "metadata": {},
   "outputs": [],
   "source": []
  }
 ],
 "metadata": {
  "kernelspec": {
   "display_name": "Python 3 (ipykernel)",
   "language": "python",
   "name": "python3"
  },
  "language_info": {
   "codemirror_mode": {
    "name": "ipython",
    "version": 3
   },
   "file_extension": ".py",
   "mimetype": "text/x-python",
   "name": "python",
   "nbconvert_exporter": "python",
   "pygments_lexer": "ipython3",
   "version": "3.9.13"
  }
 },
 "nbformat": 4,
 "nbformat_minor": 5
}
